{
 "cells": [
  {
   "cell_type": "code",
   "execution_count": 1,
   "metadata": {},
   "outputs": [],
   "source": [
    "a = 'EB 80 55 AA 6A 50 00 00 8F 00 00 00 76 FB FF FF 3E ED FF FF 9C F0 FF FF 89 93 F9 FF D4 40 99 01 68 C3 B5 06 DE FF B7 DC 10 03 01 00 DE FF B7 DC 36 1D 10 00 10 00 40 01 69 6F 34 00'\n",
    "b = a.split(' ')"
   ]
  },
  {
   "cell_type": "code",
   "execution_count": 3,
   "metadata": {},
   "outputs": [
    {
     "data": {
      "text/plain": [
       "60"
      ]
     },
     "execution_count": 3,
     "metadata": {},
     "output_type": "execute_result"
    }
   ],
   "source": [
    "len(b)"
   ]
  },
  {
   "cell_type": "code",
   "execution_count": 4,
   "metadata": {},
   "outputs": [
    {
     "data": {
      "text/plain": [
       "['EB',\n",
       " '80',\n",
       " '55',\n",
       " 'AA',\n",
       " '6A',\n",
       " '50',\n",
       " '00',\n",
       " '00',\n",
       " '8F',\n",
       " '00',\n",
       " '00',\n",
       " '00',\n",
       " '76',\n",
       " 'FB',\n",
       " 'FF',\n",
       " 'FF',\n",
       " '3E',\n",
       " 'ED',\n",
       " 'FF',\n",
       " 'FF',\n",
       " '9C',\n",
       " 'F0',\n",
       " 'FF',\n",
       " 'FF',\n",
       " '89',\n",
       " '93',\n",
       " 'F9',\n",
       " 'FF',\n",
       " 'D4',\n",
       " '40',\n",
       " '99',\n",
       " '01',\n",
       " '68',\n",
       " 'C3',\n",
       " 'B5',\n",
       " '06',\n",
       " 'DE',\n",
       " 'FF',\n",
       " 'B7',\n",
       " 'DC',\n",
       " '10',\n",
       " '03',\n",
       " '01',\n",
       " '00',\n",
       " 'DE',\n",
       " 'FF',\n",
       " 'B7',\n",
       " 'DC',\n",
       " '36',\n",
       " '1D',\n",
       " '10',\n",
       " '00',\n",
       " '10',\n",
       " '00',\n",
       " '40',\n",
       " '01',\n",
       " '69',\n",
       " '6F',\n",
       " '34',\n",
       " '00']"
      ]
     },
     "execution_count": 4,
     "metadata": {},
     "output_type": "execute_result"
    }
   ],
   "source": [
    "b"
   ]
  },
  {
   "cell_type": "code",
   "execution_count": null,
   "metadata": {},
   "outputs": [],
   "source": []
  }
 ],
 "metadata": {
  "kernelspec": {
   "display_name": "Python 3",
   "language": "python",
   "name": "python3"
  },
  "language_info": {
   "codemirror_mode": {
    "name": "ipython",
    "version": 3
   },
   "file_extension": ".py",
   "mimetype": "text/x-python",
   "name": "python",
   "nbconvert_exporter": "python",
   "pygments_lexer": "ipython3",
   "version": "3.7.6"
  }
 },
 "nbformat": 4,
 "nbformat_minor": 4
}
